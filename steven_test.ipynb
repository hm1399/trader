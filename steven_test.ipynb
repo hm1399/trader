{
 "cells": [
  {
   "cell_type": "code",
   "execution_count": 1,
   "id": "6aa93eae",
   "metadata": {},
   "outputs": [
    {
     "data": {
      "text/plain": [
       "3846.39"
      ]
     },
     "execution_count": 1,
     "metadata": {},
     "output_type": "execute_result"
    }
   ],
   "source": [
    "import ccxt\n",
    "\n",
    "binance = ccxt.binance()\n",
    "current_pair = 'ETH/USDT'\n",
    "\n",
    "# Get the current price of the pair\n",
    "price = binance.fetch_ticker(current_pair)['last']\n",
    "price"
   ]
  },
  {
   "cell_type": "code",
   "execution_count": 2,
   "id": "e699d467",
   "metadata": {},
   "outputs": [
    {
     "name": "stdout",
     "output_type": "stream",
     "text": [
      "Bitcoin (BTC/USDT) Technical Analysis\n",
      "========================================\n",
      "Current Price: $119,041.30\n",
      "RSI (14): 44.37\n",
      "Timeframe: 1m\n",
      "Timestamp: 2025-07-28 02:05:00\n",
      "\n",
      "RSI Interpretation:\n",
      "✅ NEUTRAL - RSI between 30-70\n"
     ]
    }
   ],
   "source": [
    "import ccxt\n",
    "import pandas as pd\n",
    "import numpy as np\n",
    "try:\n",
    "    import talib\n",
    "except ImportError:\n",
    "    print(\"Please install talib: pip install TA-Lib\")\n",
    "    exit(1)\n",
    "\n",
    "def get_btc_rsi(exchange_name='binance', symbol='BTC/USDT', timeframe='1h', period=14):\n",
    "    \"\"\"\n",
    "    Calculate current RSI for BTC using ccxt and talib\n",
    "    \n",
    "    Parameters:\n",
    "    - exchange_name: Exchange to use (default: 'binance')\n",
    "    - symbol: Trading pair (default: 'BTC/USDT')\n",
    "    - timeframe: Candle timeframe (default: '1h')\n",
    "    - period: RSI period (default: 14)\n",
    "    \"\"\"\n",
    "    \n",
    "    # Initialize exchange\n",
    "    exchange = getattr(ccxt, exchange_name)()\n",
    "    \n",
    "    # Fetch OHLCV data\n",
    "    # We need at least 2*period candles for accurate RSI calculation\n",
    "    limit = period * 3\n",
    "    ohlcv = exchange.fetch_ohlcv(symbol, timeframe=timeframe, limit=limit)\n",
    "    \n",
    "    # Convert to pandas DataFrame\n",
    "    df = pd.DataFrame(ohlcv, columns=['timestamp', 'open', 'high', 'low', 'close', 'volume'])\n",
    "    df['timestamp'] = pd.to_datetime(df['timestamp'], unit='ms')\n",
    "    \n",
    "    # Calculate RSI using talib\n",
    "    rsi = talib.RSI(df['close'].values, timeperiod=period)\n",
    "    \n",
    "    # Get the current RSI value (last non-NaN value)\n",
    "    current_rsi = rsi[-1]\n",
    "    \n",
    "    # Get current price\n",
    "    current_price = df['close'].iloc[-1]\n",
    "    \n",
    "    return {\n",
    "        'symbol': symbol,\n",
    "        'price': current_price,\n",
    "        'rsi': current_rsi,\n",
    "        'timeframe': timeframe,\n",
    "        'period': period,\n",
    "        'timestamp': df['timestamp'].iloc[-1]\n",
    "    }\n",
    "\n",
    "# Main execution\n",
    "if __name__ == \"__main__\":\n",
    "    try:\n",
    "        # Get BTC RSI\n",
    "        result = get_btc_rsi(timeframe='1m', period=14)\n",
    "        \n",
    "        print(f\"Bitcoin ({result['symbol']}) Technical Analysis\")\n",
    "        print(f\"{'='*40}\")\n",
    "        print(f\"Current Price: ${result['price']:,.2f}\")\n",
    "        print(f\"RSI ({result['period']}): {result['rsi']:.2f}\")\n",
    "        print(f\"Timeframe: {result['timeframe']}\")\n",
    "        print(f\"Timestamp: {result['timestamp']}\")\n",
    "        print(f\"\\nRSI Interpretation:\")\n",
    "        \n",
    "        if result['rsi'] > 70:\n",
    "            print(\"⚠️ OVERBOUGHT - RSI above 70\")\n",
    "        elif result['rsi'] < 30:\n",
    "            print(\"⚠️ OVERSOLD - RSI below 30\")\n",
    "        else:\n",
    "            print(\"✅ NEUTRAL - RSI between 30-70\")\n",
    "            \n",
    "    except Exception as e:\n",
    "        print(f\"Error: {e}\")"
   ]
  }
 ],
 "metadata": {
  "kernelspec": {
   "display_name": "Python 3",
   "language": "python",
   "name": "python3"
  },
  "language_info": {
   "codemirror_mode": {
    "name": "ipython",
    "version": 3
   },
   "file_extension": ".py",
   "mimetype": "text/x-python",
   "name": "python",
   "nbconvert_exporter": "python",
   "pygments_lexer": "ipython3",
   "version": "3.13.5"
  }
 },
 "nbformat": 4,
 "nbformat_minor": 5
}
