{
 "cells": [
  {
   "cell_type": "code",
   "execution_count": null,
   "id": "0d5078a7",
   "metadata": {},
   "outputs": [],
   "source": [
    "import api"
   ]
  }
 ],
 "metadata": {
  "language_info": {
   "name": "python"
  }
 },
 "nbformat": 4,
 "nbformat_minor": 5
}
