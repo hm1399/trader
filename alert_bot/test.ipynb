{
 "cells": [
  {
   "cell_type": "code",
   "execution_count": null,
   "id": "74434d38",
   "metadata": {},
   "outputs": [],
   "source": []
  },
  {
   "cell_type": "markdown",
   "id": "e2375d8b",
   "metadata": {},
   "source": [
    "Function to change the time format between milliseconds and datetime format"
   ]
  },
  {
   "cell_type": "code",
   "execution_count": null,
   "id": "389ada38",
   "metadata": {},
   "outputs": [],
   "source": [
    "import SniperBot\n",
    "\n",
    "sniper_bot = SniperBot.start_SniperBotbot(20000)"
   ]
  },
  {
   "cell_type": "markdown",
   "id": "a25ac434",
   "metadata": {},
   "source": []
  },
  {
   "cell_type": "code",
   "execution_count": null,
   "id": "0d5078a7",
   "metadata": {},
   "outputs": [],
   "source": []
  },
  {
   "cell_type": "markdown",
   "id": "10921a2a",
   "metadata": {},
   "source": []
  },
  {
   "cell_type": "code",
   "execution_count": null,
   "id": "da55008f",
   "metadata": {},
   "outputs": [],
   "source": []
  }
 ],
 "metadata": {
  "kernelspec": {
   "display_name": ".venv",
   "language": "python",
   "name": "python3"
  },
  "language_info": {
   "codemirror_mode": {
    "name": "ipython",
    "version": 3
   },
   "file_extension": ".py",
   "mimetype": "text/x-python",
   "name": "python",
   "nbconvert_exporter": "python",
   "pygments_lexer": "ipython3",
   "version": "3.13.5"
  }
 },
 "nbformat": 4,
 "nbformat_minor": 5
}
